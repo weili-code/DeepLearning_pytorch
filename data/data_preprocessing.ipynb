{
 "cells": [
  {
   "cell_type": "markdown",
   "id": "85e408d2-b40a-424f-b228-a04477a7f110",
   "metadata": {},
   "source": [
    "# MAT 690 Example Dataset\n",
    "\n",
    "Wei Li"
   ]
  },
  {
   "cell_type": "code",
   "execution_count": 1,
   "id": "c238d1d0-b5ec-4a38-a29f-82b2f3e4139f",
   "metadata": {},
   "outputs": [],
   "source": [
    "import pandas as pd\n",
    "import numpy as np\n",
    "import torch\n",
    "import seaborn as sns\n",
    "from matplotlib import pyplot as plt\n",
    "from sklearn.model_selection import train_test_split\n",
    "from sklearn.preprocessing import StandardScaler\n",
    "from torch.utils.data import Dataset, DataLoader"
   ]
  },
  {
   "cell_type": "code",
   "execution_count": null,
   "metadata": {},
   "outputs": [],
   "source": [
    "# %pip install watermark\n",
    "%load_ext watermark\n",
    "%watermark -a \"Wei Li\" -u -t -d -v -p numpy,torch,soundfile,librosa"
   ]
  },
  {
   "cell_type": "markdown",
   "metadata": {},
   "source": [
    "\n",
    "This is data on a job training program (the treatment) that was intended to raise\n",
    "future earnings (the outcome). The income is $\\$1000$ in the year of 1978. The data combines the original experimental data (445 observations) and additional control observations from PSID data, totalling $2675$ observations.\n",
    "\n",
    "\n",
    "\\begin{align*}\n",
    "%\\begin{array}{ll}\n",
    "\\hline \\text { Variable } & \\text { Description } \\\\\n",
    "\\hline \\text { age } & \\text { Age in years } \\\\\n",
    "\\text { educ } & \\text { Years of education } \\\\\n",
    "\\text { black } & 1=\\text { Black; } 0 \\text { otherwise } \\\\\n",
    "\\text { hisp } & 1=\\text { Hispanic; } 0 \\text { otherwise } \\\\\n",
    "\\text { married } & 1=\\text { married; } 0 \\text { otherwise } \\\\\n",
    "\\text { nodegr } & 1=\\text { no degree; } 0 \\text { otherwise } \\\\\n",
    "\\text { re74 } & 1974 \\text { income}\\\\\n",
    "\\text { re75 } & 1975 \\text { income}  \\\\\n",
    "\\text { re78 } & 1978 \\text { income} \\\\\n",
    "\\text { treat } & 1=\\text { received treatment; } 0 \\text { otherwise } \\\\\n",
    "\\hline\n",
    "%\\end{array}\n",
    "\\end{align*}"
   ]
  },
  {
   "cell_type": "code",
   "execution_count": 2,
   "id": "9056d7ad-1266-4252-8b84-f1031bb55402",
   "metadata": {},
   "outputs": [],
   "source": [
    "raw_data_all = pd.read_csv('psid_LDW_merged.csv').drop([\"u74\", \"u75\"], axis=1)"
   ]
  },
  {
   "cell_type": "code",
   "execution_count": 3,
   "id": "0300d128-ec15-4843-8147-d2f7a89d847f",
   "metadata": {},
   "outputs": [
    {
     "data": {
      "text/html": [
       "<div>\n",
       "<style scoped>\n",
       "    .dataframe tbody tr th:only-of-type {\n",
       "        vertical-align: middle;\n",
       "    }\n",
       "\n",
       "    .dataframe tbody tr th {\n",
       "        vertical-align: top;\n",
       "    }\n",
       "\n",
       "    .dataframe thead th {\n",
       "        text-align: right;\n",
       "    }\n",
       "</style>\n",
       "<table border=\"1\" class=\"dataframe\">\n",
       "  <thead>\n",
       "    <tr style=\"text-align: right;\">\n",
       "      <th></th>\n",
       "      <th>T</th>\n",
       "      <th>age</th>\n",
       "      <th>educ</th>\n",
       "      <th>black</th>\n",
       "      <th>hisp</th>\n",
       "      <th>married</th>\n",
       "      <th>nodegr</th>\n",
       "      <th>re74</th>\n",
       "      <th>re75</th>\n",
       "      <th>re78</th>\n",
       "    </tr>\n",
       "  </thead>\n",
       "  <tbody>\n",
       "    <tr>\n",
       "      <th>0</th>\n",
       "      <td>1</td>\n",
       "      <td>37</td>\n",
       "      <td>11</td>\n",
       "      <td>1</td>\n",
       "      <td>0</td>\n",
       "      <td>1</td>\n",
       "      <td>1</td>\n",
       "      <td>0.0</td>\n",
       "      <td>0.0</td>\n",
       "      <td>9930.0460</td>\n",
       "    </tr>\n",
       "    <tr>\n",
       "      <th>1</th>\n",
       "      <td>1</td>\n",
       "      <td>22</td>\n",
       "      <td>9</td>\n",
       "      <td>0</td>\n",
       "      <td>1</td>\n",
       "      <td>0</td>\n",
       "      <td>1</td>\n",
       "      <td>0.0</td>\n",
       "      <td>0.0</td>\n",
       "      <td>3595.8940</td>\n",
       "    </tr>\n",
       "    <tr>\n",
       "      <th>2</th>\n",
       "      <td>1</td>\n",
       "      <td>30</td>\n",
       "      <td>12</td>\n",
       "      <td>1</td>\n",
       "      <td>0</td>\n",
       "      <td>0</td>\n",
       "      <td>0</td>\n",
       "      <td>0.0</td>\n",
       "      <td>0.0</td>\n",
       "      <td>24909.4500</td>\n",
       "    </tr>\n",
       "    <tr>\n",
       "      <th>3</th>\n",
       "      <td>1</td>\n",
       "      <td>27</td>\n",
       "      <td>11</td>\n",
       "      <td>1</td>\n",
       "      <td>0</td>\n",
       "      <td>0</td>\n",
       "      <td>1</td>\n",
       "      <td>0.0</td>\n",
       "      <td>0.0</td>\n",
       "      <td>7506.1460</td>\n",
       "    </tr>\n",
       "    <tr>\n",
       "      <th>4</th>\n",
       "      <td>1</td>\n",
       "      <td>33</td>\n",
       "      <td>8</td>\n",
       "      <td>1</td>\n",
       "      <td>0</td>\n",
       "      <td>0</td>\n",
       "      <td>1</td>\n",
       "      <td>0.0</td>\n",
       "      <td>0.0</td>\n",
       "      <td>289.7899</td>\n",
       "    </tr>\n",
       "  </tbody>\n",
       "</table>\n",
       "</div>"
      ],
      "text/plain": [
       "   T  age  educ  black  hisp  married  nodegr  re74  re75        re78\n",
       "0  1   37    11      1     0        1       1   0.0   0.0   9930.0460\n",
       "1  1   22     9      0     1        0       1   0.0   0.0   3595.8940\n",
       "2  1   30    12      1     0        0       0   0.0   0.0  24909.4500\n",
       "3  1   27    11      1     0        0       1   0.0   0.0   7506.1460\n",
       "4  1   33     8      1     0        0       1   0.0   0.0    289.7899"
      ]
     },
     "execution_count": 3,
     "metadata": {},
     "output_type": "execute_result"
    }
   ],
   "source": [
    "raw_data_all.head()"
   ]
  },
  {
   "cell_type": "code",
   "execution_count": 4,
   "id": "f95493e8-e370-4523-9a94-8dae4ead6595",
   "metadata": {},
   "outputs": [
    {
     "name": "stdout",
     "output_type": "stream",
     "text": [
      "                 T          age         educ        black         hisp  \\\n",
      "count  2675.000000  2675.000000  2675.000000  2675.000000  2675.000000   \n",
      "mean      0.069159    34.225794    11.994393     0.291589     0.034393   \n",
      "std       0.253772    10.499842     3.053556     0.454579     0.182269   \n",
      "min       0.000000    17.000000     0.000000     0.000000     0.000000   \n",
      "25%       0.000000    25.000000    10.000000     0.000000     0.000000   \n",
      "50%       0.000000    32.000000    12.000000     0.000000     0.000000   \n",
      "75%       0.000000    43.500000    14.000000     1.000000     0.000000   \n",
      "max       1.000000    55.000000    17.000000     1.000000     1.000000   \n",
      "\n",
      "           married       nodegr           re74           re75           re78  \n",
      "count  2675.000000  2675.000000    2675.000000    2675.000000    2675.000000  \n",
      "mean      0.819439     0.333084   18230.003096   17850.893766   20502.375641  \n",
      "std       0.384726     0.471404   13722.251526   13877.777180   15632.519749  \n",
      "min       0.000000     0.000000       0.000000       0.000000       0.000000  \n",
      "25%       1.000000     0.000000    8816.700600    7605.290300    9243.400900  \n",
      "50%       1.000000     0.000000   17437.475000   17008.065000   19432.104000  \n",
      "75%       1.000000     1.000000   25470.468000   25583.709500   28815.668000  \n",
      "max       1.000000     1.000000  137148.680000  156653.230000  121173.580000  \n",
      "\n",
      "185 2490\n",
      "\n",
      "2344 331\n"
     ]
    }
   ],
   "source": [
    "# stats for treatment\n",
    "print(raw_data_all.describe())\n",
    "print()\n",
    "\n",
    "np.bincount(raw_data_all['T']), np.bincount(raw_data_all[\"re78\"] > 0)\n",
    "# counts of 0/1\n",
    "# (array([2490,  185]), array([ 331, 2344]))\n",
    "# about 7% enrolled in the training program\n",
    "# about 13% unemployed in 1978"
   ]
  },
  {
   "cell_type": "markdown",
   "id": "7b0dffe5-22ae-4f59-97e7-8ab2fcc5dcce",
   "metadata": {
    "tags": []
   },
   "source": [
    "### Task 1: predict re78 using all other variables"
   ]
  },
  {
   "cell_type": "code",
   "execution_count": 5,
   "id": "338834c8-c5ec-40b1-9190-7f3abbbd9166",
   "metadata": {},
   "outputs": [],
   "source": [
    "#Split data into training features and labels\n",
    "X, y = raw_data_all.loc[:, raw_data_all.columns != 're78'], raw_data_all['re78']\n",
    "\n",
    "# split data into train and test sets using train_test_split()\n",
    "\n",
    "seed = 2022\n",
    "test_size = 0.3\n",
    "x_train, x_test, y_train, y_test = train_test_split(X, y, test_size=test_size, random_state=seed, stratify=raw_data_all['T'])\n",
    "# statify is used to balance the data based on the portion of treatments"
   ]
  },
  {
   "cell_type": "code",
   "execution_count": 6,
   "id": "0d680203-5848-450e-bd0a-ccf76a8a7c1f",
   "metadata": {},
   "outputs": [
    {
     "data": {
      "text/plain": [
       "(array([1743,  129]), array([747,  56]))"
      ]
     },
     "execution_count": 6,
     "metadata": {},
     "output_type": "execute_result"
    }
   ],
   "source": [
    "np.bincount(x_train['T']), np.bincount(x_test['T'])"
   ]
  },
  {
   "cell_type": "code",
   "execution_count": 7,
   "id": "6ffe98a8-43b4-42c8-ad16-f774a5431d16",
   "metadata": {},
   "outputs": [],
   "source": [
    "# scaling of the features/predictors are essential for most algorithms (with the exception of tree-based methods)\n",
    "\n",
    "stdscaler = StandardScaler()\n",
    "x_train_std = stdscaler.fit_transform(x_train)\n",
    "x_test_std = stdscaler.transform(x_test)"
   ]
  },
  {
   "cell_type": "code",
   "execution_count": 8,
   "id": "c925d9d1-909b-4700-b682-cdc4e0affe12",
   "metadata": {},
   "outputs": [],
   "source": [
    "# define our own Dataset class\n",
    "\n",
    "class MyDataset(Dataset):\n",
    "    # constructor\n",
    "    # In this case it contains the data\n",
    "    def __init__(self, x, y):\n",
    "        xs = torch.tensor(np.array(x)).to(torch.float)\n",
    "        ys = torch.tensor(np.array(y)).to(torch.float)\n",
    "        self.xs = xs\n",
    "        self.ys = ys\n",
    "    \n",
    "    #len()\n",
    "    # returns the length of the dataset\n",
    "    def __len__(self):\n",
    "        return self.xs.shape[0]  #len(self.ys)\n",
    "    \n",
    "    #[]\n",
    "    # returns the item at index i\n",
    "    # this tells how a single data point is loaded\n",
    "    def __getitem__(self, i):\n",
    "        return self.xs[i,], self.ys[i]"
   ]
  },
  {
   "cell_type": "code",
   "execution_count": 9,
   "id": "f8f1f2b2-625d-4bfe-b752-86486bb0692d",
   "metadata": {},
   "outputs": [],
   "source": [
    "# Create instances of MyDataset class\n",
    "\n",
    "train_data = MyDataset(x_train_std, y_train)\n",
    "# train_data[0,]\n",
    "test_data = MyDataset(x_test_std, y_test)"
   ]
  },
  {
   "cell_type": "code",
   "execution_count": 10,
   "id": "c01055ac-64eb-467d-9ba1-f40df3dd3ff9",
   "metadata": {},
   "outputs": [],
   "source": [
    "# Create instances of dataloader \n",
    "\n",
    "torch.manual_seed(1)\n",
    "train_loader = DataLoader(dataset=train_data, batch_size=4, shuffle=True)\n",
    "test_loader = DataLoader(dataset=test_data, batch_size=4, shuffle=True)\n",
    "\n",
    "# for epoch in range(2):\n",
    "#     print(f'epoch {epoch+1}')\n",
    "#     for idx, batch in enumerate(train_loader):\n",
    "#         print(f'batch {idx}:', 'x:', batch[0], '\\n y:', batch[1])"
   ]
  },
  {
   "cell_type": "markdown",
   "id": "88d05964-375d-4bed-a2ae-eb0dfe0ac5fb",
   "metadata": {},
   "source": [
    "### Task 2: predict if re78>0 using all other variables"
   ]
  },
  {
   "cell_type": "code",
   "execution_count": 11,
   "id": "b9d68813-dc01-4050-9922-4a134bbe3026",
   "metadata": {},
   "outputs": [],
   "source": [
    "# Split data into training features and labels\n",
    "X, y = raw_data_all.loc[:, raw_data_all.columns != 're78'], (raw_data_all['re78']>0).astype(int)\n",
    "# y= re78 is binary\n",
    "# split data into train and test sets using train_test_split()\n",
    "\n",
    "seed = 2022\n",
    "test_size = 0.3\n",
    "x_train, x_test, y_train, y_test = train_test_split(X, y, test_size=test_size, random_state=seed, stratify=pd.concat([y, X['T']], axis=1))\n",
    "# x_train, x_test, y_train, y_test = train_test_split(X, y, test_size=test_size, random_state=seed, stratify=y)"
   ]
  },
  {
   "cell_type": "code",
   "execution_count": 12,
   "id": "a1ee726a-6dbe-4811-ab84-db2f4642026f",
   "metadata": {},
   "outputs": [
    {
     "data": {
      "text/plain": [
       "(array([ 232, 1640]),\n",
       " array([ 99, 704]),\n",
       " array([1742,  130]),\n",
       " array([748,  55]))"
      ]
     },
     "execution_count": 12,
     "metadata": {},
     "output_type": "execute_result"
    }
   ],
   "source": [
    "np.bincount(y_train), np.bincount(y_test), np.bincount(x_train['T']), np.bincount(x_test['T'])"
   ]
  },
  {
   "cell_type": "markdown",
   "id": "1239d01c-3323-4a5a-b23d-c60cc8f2220f",
   "metadata": {},
   "source": [
    "The rest procedure is similar to Task 1."
   ]
  }
 ],
 "metadata": {
  "kernelspec": {
   "display_name": "py38r40-gan",
   "language": "python",
   "name": "python3"
  },
  "language_info": {
   "codemirror_mode": {
    "name": "ipython",
    "version": 3
   },
   "file_extension": ".py",
   "mimetype": "text/x-python",
   "name": "python",
   "nbconvert_exporter": "python",
   "pygments_lexer": "ipython3",
   "version": "3.8.17"
  },
  "vscode": {
   "interpreter": {
    "hash": "c0f1a10aafc64c091f4275186ed03467b2d3dcbc0c480df9a82ef4f156591d4c"
   }
  }
 },
 "nbformat": 4,
 "nbformat_minor": 5
}
